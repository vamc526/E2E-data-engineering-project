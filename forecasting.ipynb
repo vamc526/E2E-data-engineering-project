{
  "cells": [
    {
      "cell_type": "markdown",
      "metadata": {
        "id": "pq7lkfJp3eS5"
      },
      "source": [
        "#Stock Price Prediction And Forecasting Using Stacked LSTM- Deep Learning"
      ]
    },
    {
      "cell_type": "code",
      "execution_count": 2,
      "metadata": {
        "id": "zalT2ysq3eS6"
      },
      "outputs": [],
      "source": [
        "import pandas as pd\n",
        "import matplotlib.pyplot as plt\n",
        "import numpy as np"
      ]
    },
    {
      "cell_type": "code",
      "execution_count": 16,
      "metadata": {
        "id": "437cGzYf3eS7"
      },
      "outputs": [],
      "source": [
        "df = pd.read_csv(\"/content/E2E-data-engineering-project/Dataset .csv\")"
      ]
    },
    {
      "cell_type": "code",
      "execution_count": 17,
      "metadata": {
        "id": "SO2coVnH3eS7",
        "outputId": "085032cc-8448-450f-8199-f5dd1fb713f7",
        "colab": {
          "base_uri": "https://localhost:8080/",
          "height": 293
        }
      },
      "outputs": [
        {
          "output_type": "execute_result",
          "data": {
            "text/plain": [
              "  Index        Date         Open         High          Low        Close  \\\n",
              "0   HSI  1986-12-31  2568.300049  2568.300049  2568.300049  2568.300049   \n",
              "1   HSI  1987-01-02  2540.100098  2540.100098  2540.100098  2540.100098   \n",
              "2   HSI  1987-01-05  2552.399902  2552.399902  2552.399902  2552.399902   \n",
              "3   HSI  1987-01-06  2583.899902  2583.899902  2583.899902  2583.899902   \n",
              "4   HSI  1987-01-07  2607.100098  2607.100098  2607.100098  2607.100098   \n",
              "\n",
              "     Adj Close  Volume    CloseUSD  \n",
              "0  2568.300049     0.0  333.879006  \n",
              "1  2540.100098     0.0  330.213013  \n",
              "2  2552.399902     0.0  331.811987  \n",
              "3  2583.899902     0.0  335.906987  \n",
              "4  2607.100098     0.0  338.923013  "
            ],
            "text/html": [
              "\n",
              "  <div id=\"df-9b3f1434-40aa-434b-abe4-4350e5d1414e\" class=\"colab-df-container\">\n",
              "    <div>\n",
              "<style scoped>\n",
              "    .dataframe tbody tr th:only-of-type {\n",
              "        vertical-align: middle;\n",
              "    }\n",
              "\n",
              "    .dataframe tbody tr th {\n",
              "        vertical-align: top;\n",
              "    }\n",
              "\n",
              "    .dataframe thead th {\n",
              "        text-align: right;\n",
              "    }\n",
              "</style>\n",
              "<table border=\"1\" class=\"dataframe\">\n",
              "  <thead>\n",
              "    <tr style=\"text-align: right;\">\n",
              "      <th></th>\n",
              "      <th>Index</th>\n",
              "      <th>Date</th>\n",
              "      <th>Open</th>\n",
              "      <th>High</th>\n",
              "      <th>Low</th>\n",
              "      <th>Close</th>\n",
              "      <th>Adj Close</th>\n",
              "      <th>Volume</th>\n",
              "      <th>CloseUSD</th>\n",
              "    </tr>\n",
              "  </thead>\n",
              "  <tbody>\n",
              "    <tr>\n",
              "      <th>0</th>\n",
              "      <td>HSI</td>\n",
              "      <td>1986-12-31</td>\n",
              "      <td>2568.300049</td>\n",
              "      <td>2568.300049</td>\n",
              "      <td>2568.300049</td>\n",
              "      <td>2568.300049</td>\n",
              "      <td>2568.300049</td>\n",
              "      <td>0.0</td>\n",
              "      <td>333.879006</td>\n",
              "    </tr>\n",
              "    <tr>\n",
              "      <th>1</th>\n",
              "      <td>HSI</td>\n",
              "      <td>1987-01-02</td>\n",
              "      <td>2540.100098</td>\n",
              "      <td>2540.100098</td>\n",
              "      <td>2540.100098</td>\n",
              "      <td>2540.100098</td>\n",
              "      <td>2540.100098</td>\n",
              "      <td>0.0</td>\n",
              "      <td>330.213013</td>\n",
              "    </tr>\n",
              "    <tr>\n",
              "      <th>2</th>\n",
              "      <td>HSI</td>\n",
              "      <td>1987-01-05</td>\n",
              "      <td>2552.399902</td>\n",
              "      <td>2552.399902</td>\n",
              "      <td>2552.399902</td>\n",
              "      <td>2552.399902</td>\n",
              "      <td>2552.399902</td>\n",
              "      <td>0.0</td>\n",
              "      <td>331.811987</td>\n",
              "    </tr>\n",
              "    <tr>\n",
              "      <th>3</th>\n",
              "      <td>HSI</td>\n",
              "      <td>1987-01-06</td>\n",
              "      <td>2583.899902</td>\n",
              "      <td>2583.899902</td>\n",
              "      <td>2583.899902</td>\n",
              "      <td>2583.899902</td>\n",
              "      <td>2583.899902</td>\n",
              "      <td>0.0</td>\n",
              "      <td>335.906987</td>\n",
              "    </tr>\n",
              "    <tr>\n",
              "      <th>4</th>\n",
              "      <td>HSI</td>\n",
              "      <td>1987-01-07</td>\n",
              "      <td>2607.100098</td>\n",
              "      <td>2607.100098</td>\n",
              "      <td>2607.100098</td>\n",
              "      <td>2607.100098</td>\n",
              "      <td>2607.100098</td>\n",
              "      <td>0.0</td>\n",
              "      <td>338.923013</td>\n",
              "    </tr>\n",
              "  </tbody>\n",
              "</table>\n",
              "</div>\n",
              "    <div class=\"colab-df-buttons\">\n",
              "\n",
              "  <div class=\"colab-df-container\">\n",
              "    <button class=\"colab-df-convert\" onclick=\"convertToInteractive('df-9b3f1434-40aa-434b-abe4-4350e5d1414e')\"\n",
              "            title=\"Convert this dataframe to an interactive table.\"\n",
              "            style=\"display:none;\">\n",
              "\n",
              "  <svg xmlns=\"http://www.w3.org/2000/svg\" height=\"24px\" viewBox=\"0 -960 960 960\">\n",
              "    <path d=\"M120-120v-720h720v720H120Zm60-500h600v-160H180v160Zm220 220h160v-160H400v160Zm0 220h160v-160H400v160ZM180-400h160v-160H180v160Zm440 0h160v-160H620v160ZM180-180h160v-160H180v160Zm440 0h160v-160H620v160Z\"/>\n",
              "  </svg>\n",
              "    </button>\n",
              "\n",
              "  <style>\n",
              "    .colab-df-container {\n",
              "      display:flex;\n",
              "      gap: 12px;\n",
              "    }\n",
              "\n",
              "    .colab-df-convert {\n",
              "      background-color: #E8F0FE;\n",
              "      border: none;\n",
              "      border-radius: 50%;\n",
              "      cursor: pointer;\n",
              "      display: none;\n",
              "      fill: #1967D2;\n",
              "      height: 32px;\n",
              "      padding: 0 0 0 0;\n",
              "      width: 32px;\n",
              "    }\n",
              "\n",
              "    .colab-df-convert:hover {\n",
              "      background-color: #E2EBFA;\n",
              "      box-shadow: 0px 1px 2px rgba(60, 64, 67, 0.3), 0px 1px 3px 1px rgba(60, 64, 67, 0.15);\n",
              "      fill: #174EA6;\n",
              "    }\n",
              "\n",
              "    .colab-df-buttons div {\n",
              "      margin-bottom: 4px;\n",
              "    }\n",
              "\n",
              "    [theme=dark] .colab-df-convert {\n",
              "      background-color: #3B4455;\n",
              "      fill: #D2E3FC;\n",
              "    }\n",
              "\n",
              "    [theme=dark] .colab-df-convert:hover {\n",
              "      background-color: #434B5C;\n",
              "      box-shadow: 0px 1px 3px 1px rgba(0, 0, 0, 0.15);\n",
              "      filter: drop-shadow(0px 1px 2px rgba(0, 0, 0, 0.3));\n",
              "      fill: #FFFFFF;\n",
              "    }\n",
              "  </style>\n",
              "\n",
              "    <script>\n",
              "      const buttonEl =\n",
              "        document.querySelector('#df-9b3f1434-40aa-434b-abe4-4350e5d1414e button.colab-df-convert');\n",
              "      buttonEl.style.display =\n",
              "        google.colab.kernel.accessAllowed ? 'block' : 'none';\n",
              "\n",
              "      async function convertToInteractive(key) {\n",
              "        const element = document.querySelector('#df-9b3f1434-40aa-434b-abe4-4350e5d1414e');\n",
              "        const dataTable =\n",
              "          await google.colab.kernel.invokeFunction('convertToInteractive',\n",
              "                                                    [key], {});\n",
              "        if (!dataTable) return;\n",
              "\n",
              "        const docLinkHtml = 'Like what you see? Visit the ' +\n",
              "          '<a target=\"_blank\" href=https://colab.research.google.com/notebooks/data_table.ipynb>data table notebook</a>'\n",
              "          + ' to learn more about interactive tables.';\n",
              "        element.innerHTML = '';\n",
              "        dataTable['output_type'] = 'display_data';\n",
              "        await google.colab.output.renderOutput(dataTable, element);\n",
              "        const docLink = document.createElement('div');\n",
              "        docLink.innerHTML = docLinkHtml;\n",
              "        element.appendChild(docLink);\n",
              "      }\n",
              "    </script>\n",
              "  </div>\n",
              "\n",
              "\n",
              "<div id=\"df-d50479d5-e6db-4795-82d5-de1edb3c6ffe\">\n",
              "  <button class=\"colab-df-quickchart\" onclick=\"quickchart('df-d50479d5-e6db-4795-82d5-de1edb3c6ffe')\"\n",
              "            title=\"Suggest charts\"\n",
              "            style=\"display:none;\">\n",
              "\n",
              "<svg xmlns=\"http://www.w3.org/2000/svg\" height=\"24px\"viewBox=\"0 0 24 24\"\n",
              "     width=\"24px\">\n",
              "    <g>\n",
              "        <path d=\"M19 3H5c-1.1 0-2 .9-2 2v14c0 1.1.9 2 2 2h14c1.1 0 2-.9 2-2V5c0-1.1-.9-2-2-2zM9 17H7v-7h2v7zm4 0h-2V7h2v10zm4 0h-2v-4h2v4z\"/>\n",
              "    </g>\n",
              "</svg>\n",
              "  </button>\n",
              "\n",
              "<style>\n",
              "  .colab-df-quickchart {\n",
              "      --bg-color: #E8F0FE;\n",
              "      --fill-color: #1967D2;\n",
              "      --hover-bg-color: #E2EBFA;\n",
              "      --hover-fill-color: #174EA6;\n",
              "      --disabled-fill-color: #AAA;\n",
              "      --disabled-bg-color: #DDD;\n",
              "  }\n",
              "\n",
              "  [theme=dark] .colab-df-quickchart {\n",
              "      --bg-color: #3B4455;\n",
              "      --fill-color: #D2E3FC;\n",
              "      --hover-bg-color: #434B5C;\n",
              "      --hover-fill-color: #FFFFFF;\n",
              "      --disabled-bg-color: #3B4455;\n",
              "      --disabled-fill-color: #666;\n",
              "  }\n",
              "\n",
              "  .colab-df-quickchart {\n",
              "    background-color: var(--bg-color);\n",
              "    border: none;\n",
              "    border-radius: 50%;\n",
              "    cursor: pointer;\n",
              "    display: none;\n",
              "    fill: var(--fill-color);\n",
              "    height: 32px;\n",
              "    padding: 0;\n",
              "    width: 32px;\n",
              "  }\n",
              "\n",
              "  .colab-df-quickchart:hover {\n",
              "    background-color: var(--hover-bg-color);\n",
              "    box-shadow: 0 1px 2px rgba(60, 64, 67, 0.3), 0 1px 3px 1px rgba(60, 64, 67, 0.15);\n",
              "    fill: var(--button-hover-fill-color);\n",
              "  }\n",
              "\n",
              "  .colab-df-quickchart-complete:disabled,\n",
              "  .colab-df-quickchart-complete:disabled:hover {\n",
              "    background-color: var(--disabled-bg-color);\n",
              "    fill: var(--disabled-fill-color);\n",
              "    box-shadow: none;\n",
              "  }\n",
              "\n",
              "  .colab-df-spinner {\n",
              "    border: 2px solid var(--fill-color);\n",
              "    border-color: transparent;\n",
              "    border-bottom-color: var(--fill-color);\n",
              "    animation:\n",
              "      spin 1s steps(1) infinite;\n",
              "  }\n",
              "\n",
              "  @keyframes spin {\n",
              "    0% {\n",
              "      border-color: transparent;\n",
              "      border-bottom-color: var(--fill-color);\n",
              "      border-left-color: var(--fill-color);\n",
              "    }\n",
              "    20% {\n",
              "      border-color: transparent;\n",
              "      border-left-color: var(--fill-color);\n",
              "      border-top-color: var(--fill-color);\n",
              "    }\n",
              "    30% {\n",
              "      border-color: transparent;\n",
              "      border-left-color: var(--fill-color);\n",
              "      border-top-color: var(--fill-color);\n",
              "      border-right-color: var(--fill-color);\n",
              "    }\n",
              "    40% {\n",
              "      border-color: transparent;\n",
              "      border-right-color: var(--fill-color);\n",
              "      border-top-color: var(--fill-color);\n",
              "    }\n",
              "    60% {\n",
              "      border-color: transparent;\n",
              "      border-right-color: var(--fill-color);\n",
              "    }\n",
              "    80% {\n",
              "      border-color: transparent;\n",
              "      border-right-color: var(--fill-color);\n",
              "      border-bottom-color: var(--fill-color);\n",
              "    }\n",
              "    90% {\n",
              "      border-color: transparent;\n",
              "      border-bottom-color: var(--fill-color);\n",
              "    }\n",
              "  }\n",
              "</style>\n",
              "\n",
              "  <script>\n",
              "    async function quickchart(key) {\n",
              "      const quickchartButtonEl =\n",
              "        document.querySelector('#' + key + ' button');\n",
              "      quickchartButtonEl.disabled = true;  // To prevent multiple clicks.\n",
              "      quickchartButtonEl.classList.add('colab-df-spinner');\n",
              "      try {\n",
              "        const charts = await google.colab.kernel.invokeFunction(\n",
              "            'suggestCharts', [key], {});\n",
              "      } catch (error) {\n",
              "        console.error('Error during call to suggestCharts:', error);\n",
              "      }\n",
              "      quickchartButtonEl.classList.remove('colab-df-spinner');\n",
              "      quickchartButtonEl.classList.add('colab-df-quickchart-complete');\n",
              "    }\n",
              "    (() => {\n",
              "      let quickchartButtonEl =\n",
              "        document.querySelector('#df-d50479d5-e6db-4795-82d5-de1edb3c6ffe button');\n",
              "      quickchartButtonEl.style.display =\n",
              "        google.colab.kernel.accessAllowed ? 'block' : 'none';\n",
              "    })();\n",
              "  </script>\n",
              "</div>\n",
              "\n",
              "    </div>\n",
              "  </div>\n"
            ],
            "application/vnd.google.colaboratory.intrinsic+json": {
              "type": "dataframe",
              "variable_name": "df"
            }
          },
          "metadata": {},
          "execution_count": 17
        }
      ],
      "source": [
        "df.head()"
      ]
    },
    {
      "cell_type": "markdown",
      "metadata": {
        "id": "iQqm1-nV3eS7"
      },
      "source": [
        "Target variable is close"
      ]
    },
    {
      "cell_type": "code",
      "execution_count": 18,
      "metadata": {
        "id": "sGYRLMaE3eS8",
        "outputId": "f433ba57-ac3f-4e56-f419-e55aa0f86594",
        "colab": {
          "base_uri": "https://localhost:8080/"
        }
      },
      "outputs": [
        {
          "output_type": "stream",
          "name": "stdout",
          "text": [
            "<class 'pandas.core.frame.DataFrame'>\n",
            "RangeIndex: 104224 entries, 0 to 104223\n",
            "Data columns (total 9 columns):\n",
            " #   Column     Non-Null Count   Dtype  \n",
            "---  ------     --------------   -----  \n",
            " 0   Index      104224 non-null  object \n",
            " 1   Date       104224 non-null  object \n",
            " 2   Open       104224 non-null  float64\n",
            " 3   High       104224 non-null  float64\n",
            " 4   Low        104224 non-null  float64\n",
            " 5   Close      104224 non-null  float64\n",
            " 6   Adj Close  104224 non-null  float64\n",
            " 7   Volume     104224 non-null  float64\n",
            " 8   CloseUSD   104224 non-null  float64\n",
            "dtypes: float64(7), object(2)\n",
            "memory usage: 7.2+ MB\n"
          ]
        }
      ],
      "source": [
        "df.info()"
      ]
    },
    {
      "cell_type": "code",
      "execution_count": 19,
      "metadata": {
        "id": "XvrdCE9k3eS8",
        "outputId": "0f9a4318-f44b-43e4-a7b1-67ecb00c2a58",
        "colab": {
          "base_uri": "https://localhost:8080/",
          "height": 320
        }
      },
      "outputs": [
        {
          "output_type": "execute_result",
          "data": {
            "text/plain": [
              "                Open           High            Low          Close  \\\n",
              "count  104224.000000  104224.000000  104224.000000  104224.000000   \n",
              "mean     8015.353334    8063.324234    7962.581120    8014.366642   \n",
              "std      9140.563404    9196.575802    9082.767802    9140.609758   \n",
              "min        54.869999      54.869999      54.869999      54.869999   \n",
              "25%      2046.887756    2057.213990    2037.185943    2047.506470   \n",
              "50%      5772.140137    5812.764892    5725.199951    5773.710205   \n",
              "75%     10487.377445   10552.179690   10416.092287   10488.622560   \n",
              "max     68775.062500   69403.750000   68516.992190   68775.062500   \n",
              "\n",
              "           Adj Close        Volume       CloseUSD  \n",
              "count  104224.000000  1.042240e+05  104224.000000  \n",
              "mean     8014.161269  1.347646e+09    3046.729177  \n",
              "std      9140.720456  4.427662e+09    3747.865623  \n",
              "min        54.869999  0.000000e+00      10.204900  \n",
              "25%      2047.358490  0.000000e+00     320.460898  \n",
              "50%      5773.710205  9.529000e+05    1371.598486  \n",
              "75%     10488.622560  2.064676e+08    4383.045241  \n",
              "max     68775.062500  9.440374e+10   18934.376173  "
            ],
            "text/html": [
              "\n",
              "  <div id=\"df-c99eeeef-63bf-4421-bb80-d0e6124c6c2e\" class=\"colab-df-container\">\n",
              "    <div>\n",
              "<style scoped>\n",
              "    .dataframe tbody tr th:only-of-type {\n",
              "        vertical-align: middle;\n",
              "    }\n",
              "\n",
              "    .dataframe tbody tr th {\n",
              "        vertical-align: top;\n",
              "    }\n",
              "\n",
              "    .dataframe thead th {\n",
              "        text-align: right;\n",
              "    }\n",
              "</style>\n",
              "<table border=\"1\" class=\"dataframe\">\n",
              "  <thead>\n",
              "    <tr style=\"text-align: right;\">\n",
              "      <th></th>\n",
              "      <th>Open</th>\n",
              "      <th>High</th>\n",
              "      <th>Low</th>\n",
              "      <th>Close</th>\n",
              "      <th>Adj Close</th>\n",
              "      <th>Volume</th>\n",
              "      <th>CloseUSD</th>\n",
              "    </tr>\n",
              "  </thead>\n",
              "  <tbody>\n",
              "    <tr>\n",
              "      <th>count</th>\n",
              "      <td>104224.000000</td>\n",
              "      <td>104224.000000</td>\n",
              "      <td>104224.000000</td>\n",
              "      <td>104224.000000</td>\n",
              "      <td>104224.000000</td>\n",
              "      <td>1.042240e+05</td>\n",
              "      <td>104224.000000</td>\n",
              "    </tr>\n",
              "    <tr>\n",
              "      <th>mean</th>\n",
              "      <td>8015.353334</td>\n",
              "      <td>8063.324234</td>\n",
              "      <td>7962.581120</td>\n",
              "      <td>8014.366642</td>\n",
              "      <td>8014.161269</td>\n",
              "      <td>1.347646e+09</td>\n",
              "      <td>3046.729177</td>\n",
              "    </tr>\n",
              "    <tr>\n",
              "      <th>std</th>\n",
              "      <td>9140.563404</td>\n",
              "      <td>9196.575802</td>\n",
              "      <td>9082.767802</td>\n",
              "      <td>9140.609758</td>\n",
              "      <td>9140.720456</td>\n",
              "      <td>4.427662e+09</td>\n",
              "      <td>3747.865623</td>\n",
              "    </tr>\n",
              "    <tr>\n",
              "      <th>min</th>\n",
              "      <td>54.869999</td>\n",
              "      <td>54.869999</td>\n",
              "      <td>54.869999</td>\n",
              "      <td>54.869999</td>\n",
              "      <td>54.869999</td>\n",
              "      <td>0.000000e+00</td>\n",
              "      <td>10.204900</td>\n",
              "    </tr>\n",
              "    <tr>\n",
              "      <th>25%</th>\n",
              "      <td>2046.887756</td>\n",
              "      <td>2057.213990</td>\n",
              "      <td>2037.185943</td>\n",
              "      <td>2047.506470</td>\n",
              "      <td>2047.358490</td>\n",
              "      <td>0.000000e+00</td>\n",
              "      <td>320.460898</td>\n",
              "    </tr>\n",
              "    <tr>\n",
              "      <th>50%</th>\n",
              "      <td>5772.140137</td>\n",
              "      <td>5812.764892</td>\n",
              "      <td>5725.199951</td>\n",
              "      <td>5773.710205</td>\n",
              "      <td>5773.710205</td>\n",
              "      <td>9.529000e+05</td>\n",
              "      <td>1371.598486</td>\n",
              "    </tr>\n",
              "    <tr>\n",
              "      <th>75%</th>\n",
              "      <td>10487.377445</td>\n",
              "      <td>10552.179690</td>\n",
              "      <td>10416.092287</td>\n",
              "      <td>10488.622560</td>\n",
              "      <td>10488.622560</td>\n",
              "      <td>2.064676e+08</td>\n",
              "      <td>4383.045241</td>\n",
              "    </tr>\n",
              "    <tr>\n",
              "      <th>max</th>\n",
              "      <td>68775.062500</td>\n",
              "      <td>69403.750000</td>\n",
              "      <td>68516.992190</td>\n",
              "      <td>68775.062500</td>\n",
              "      <td>68775.062500</td>\n",
              "      <td>9.440374e+10</td>\n",
              "      <td>18934.376173</td>\n",
              "    </tr>\n",
              "  </tbody>\n",
              "</table>\n",
              "</div>\n",
              "    <div class=\"colab-df-buttons\">\n",
              "\n",
              "  <div class=\"colab-df-container\">\n",
              "    <button class=\"colab-df-convert\" onclick=\"convertToInteractive('df-c99eeeef-63bf-4421-bb80-d0e6124c6c2e')\"\n",
              "            title=\"Convert this dataframe to an interactive table.\"\n",
              "            style=\"display:none;\">\n",
              "\n",
              "  <svg xmlns=\"http://www.w3.org/2000/svg\" height=\"24px\" viewBox=\"0 -960 960 960\">\n",
              "    <path d=\"M120-120v-720h720v720H120Zm60-500h600v-160H180v160Zm220 220h160v-160H400v160Zm0 220h160v-160H400v160ZM180-400h160v-160H180v160Zm440 0h160v-160H620v160ZM180-180h160v-160H180v160Zm440 0h160v-160H620v160Z\"/>\n",
              "  </svg>\n",
              "    </button>\n",
              "\n",
              "  <style>\n",
              "    .colab-df-container {\n",
              "      display:flex;\n",
              "      gap: 12px;\n",
              "    }\n",
              "\n",
              "    .colab-df-convert {\n",
              "      background-color: #E8F0FE;\n",
              "      border: none;\n",
              "      border-radius: 50%;\n",
              "      cursor: pointer;\n",
              "      display: none;\n",
              "      fill: #1967D2;\n",
              "      height: 32px;\n",
              "      padding: 0 0 0 0;\n",
              "      width: 32px;\n",
              "    }\n",
              "\n",
              "    .colab-df-convert:hover {\n",
              "      background-color: #E2EBFA;\n",
              "      box-shadow: 0px 1px 2px rgba(60, 64, 67, 0.3), 0px 1px 3px 1px rgba(60, 64, 67, 0.15);\n",
              "      fill: #174EA6;\n",
              "    }\n",
              "\n",
              "    .colab-df-buttons div {\n",
              "      margin-bottom: 4px;\n",
              "    }\n",
              "\n",
              "    [theme=dark] .colab-df-convert {\n",
              "      background-color: #3B4455;\n",
              "      fill: #D2E3FC;\n",
              "    }\n",
              "\n",
              "    [theme=dark] .colab-df-convert:hover {\n",
              "      background-color: #434B5C;\n",
              "      box-shadow: 0px 1px 3px 1px rgba(0, 0, 0, 0.15);\n",
              "      filter: drop-shadow(0px 1px 2px rgba(0, 0, 0, 0.3));\n",
              "      fill: #FFFFFF;\n",
              "    }\n",
              "  </style>\n",
              "\n",
              "    <script>\n",
              "      const buttonEl =\n",
              "        document.querySelector('#df-c99eeeef-63bf-4421-bb80-d0e6124c6c2e button.colab-df-convert');\n",
              "      buttonEl.style.display =\n",
              "        google.colab.kernel.accessAllowed ? 'block' : 'none';\n",
              "\n",
              "      async function convertToInteractive(key) {\n",
              "        const element = document.querySelector('#df-c99eeeef-63bf-4421-bb80-d0e6124c6c2e');\n",
              "        const dataTable =\n",
              "          await google.colab.kernel.invokeFunction('convertToInteractive',\n",
              "                                                    [key], {});\n",
              "        if (!dataTable) return;\n",
              "\n",
              "        const docLinkHtml = 'Like what you see? Visit the ' +\n",
              "          '<a target=\"_blank\" href=https://colab.research.google.com/notebooks/data_table.ipynb>data table notebook</a>'\n",
              "          + ' to learn more about interactive tables.';\n",
              "        element.innerHTML = '';\n",
              "        dataTable['output_type'] = 'display_data';\n",
              "        await google.colab.output.renderOutput(dataTable, element);\n",
              "        const docLink = document.createElement('div');\n",
              "        docLink.innerHTML = docLinkHtml;\n",
              "        element.appendChild(docLink);\n",
              "      }\n",
              "    </script>\n",
              "  </div>\n",
              "\n",
              "\n",
              "<div id=\"df-d1a5b281-a46c-4260-8af2-5a0a8278c948\">\n",
              "  <button class=\"colab-df-quickchart\" onclick=\"quickchart('df-d1a5b281-a46c-4260-8af2-5a0a8278c948')\"\n",
              "            title=\"Suggest charts\"\n",
              "            style=\"display:none;\">\n",
              "\n",
              "<svg xmlns=\"http://www.w3.org/2000/svg\" height=\"24px\"viewBox=\"0 0 24 24\"\n",
              "     width=\"24px\">\n",
              "    <g>\n",
              "        <path d=\"M19 3H5c-1.1 0-2 .9-2 2v14c0 1.1.9 2 2 2h14c1.1 0 2-.9 2-2V5c0-1.1-.9-2-2-2zM9 17H7v-7h2v7zm4 0h-2V7h2v10zm4 0h-2v-4h2v4z\"/>\n",
              "    </g>\n",
              "</svg>\n",
              "  </button>\n",
              "\n",
              "<style>\n",
              "  .colab-df-quickchart {\n",
              "      --bg-color: #E8F0FE;\n",
              "      --fill-color: #1967D2;\n",
              "      --hover-bg-color: #E2EBFA;\n",
              "      --hover-fill-color: #174EA6;\n",
              "      --disabled-fill-color: #AAA;\n",
              "      --disabled-bg-color: #DDD;\n",
              "  }\n",
              "\n",
              "  [theme=dark] .colab-df-quickchart {\n",
              "      --bg-color: #3B4455;\n",
              "      --fill-color: #D2E3FC;\n",
              "      --hover-bg-color: #434B5C;\n",
              "      --hover-fill-color: #FFFFFF;\n",
              "      --disabled-bg-color: #3B4455;\n",
              "      --disabled-fill-color: #666;\n",
              "  }\n",
              "\n",
              "  .colab-df-quickchart {\n",
              "    background-color: var(--bg-color);\n",
              "    border: none;\n",
              "    border-radius: 50%;\n",
              "    cursor: pointer;\n",
              "    display: none;\n",
              "    fill: var(--fill-color);\n",
              "    height: 32px;\n",
              "    padding: 0;\n",
              "    width: 32px;\n",
              "  }\n",
              "\n",
              "  .colab-df-quickchart:hover {\n",
              "    background-color: var(--hover-bg-color);\n",
              "    box-shadow: 0 1px 2px rgba(60, 64, 67, 0.3), 0 1px 3px 1px rgba(60, 64, 67, 0.15);\n",
              "    fill: var(--button-hover-fill-color);\n",
              "  }\n",
              "\n",
              "  .colab-df-quickchart-complete:disabled,\n",
              "  .colab-df-quickchart-complete:disabled:hover {\n",
              "    background-color: var(--disabled-bg-color);\n",
              "    fill: var(--disabled-fill-color);\n",
              "    box-shadow: none;\n",
              "  }\n",
              "\n",
              "  .colab-df-spinner {\n",
              "    border: 2px solid var(--fill-color);\n",
              "    border-color: transparent;\n",
              "    border-bottom-color: var(--fill-color);\n",
              "    animation:\n",
              "      spin 1s steps(1) infinite;\n",
              "  }\n",
              "\n",
              "  @keyframes spin {\n",
              "    0% {\n",
              "      border-color: transparent;\n",
              "      border-bottom-color: var(--fill-color);\n",
              "      border-left-color: var(--fill-color);\n",
              "    }\n",
              "    20% {\n",
              "      border-color: transparent;\n",
              "      border-left-color: var(--fill-color);\n",
              "      border-top-color: var(--fill-color);\n",
              "    }\n",
              "    30% {\n",
              "      border-color: transparent;\n",
              "      border-left-color: var(--fill-color);\n",
              "      border-top-color: var(--fill-color);\n",
              "      border-right-color: var(--fill-color);\n",
              "    }\n",
              "    40% {\n",
              "      border-color: transparent;\n",
              "      border-right-color: var(--fill-color);\n",
              "      border-top-color: var(--fill-color);\n",
              "    }\n",
              "    60% {\n",
              "      border-color: transparent;\n",
              "      border-right-color: var(--fill-color);\n",
              "    }\n",
              "    80% {\n",
              "      border-color: transparent;\n",
              "      border-right-color: var(--fill-color);\n",
              "      border-bottom-color: var(--fill-color);\n",
              "    }\n",
              "    90% {\n",
              "      border-color: transparent;\n",
              "      border-bottom-color: var(--fill-color);\n",
              "    }\n",
              "  }\n",
              "</style>\n",
              "\n",
              "  <script>\n",
              "    async function quickchart(key) {\n",
              "      const quickchartButtonEl =\n",
              "        document.querySelector('#' + key + ' button');\n",
              "      quickchartButtonEl.disabled = true;  // To prevent multiple clicks.\n",
              "      quickchartButtonEl.classList.add('colab-df-spinner');\n",
              "      try {\n",
              "        const charts = await google.colab.kernel.invokeFunction(\n",
              "            'suggestCharts', [key], {});\n",
              "      } catch (error) {\n",
              "        console.error('Error during call to suggestCharts:', error);\n",
              "      }\n",
              "      quickchartButtonEl.classList.remove('colab-df-spinner');\n",
              "      quickchartButtonEl.classList.add('colab-df-quickchart-complete');\n",
              "    }\n",
              "    (() => {\n",
              "      let quickchartButtonEl =\n",
              "        document.querySelector('#df-d1a5b281-a46c-4260-8af2-5a0a8278c948 button');\n",
              "      quickchartButtonEl.style.display =\n",
              "        google.colab.kernel.accessAllowed ? 'block' : 'none';\n",
              "    })();\n",
              "  </script>\n",
              "</div>\n",
              "\n",
              "    </div>\n",
              "  </div>\n"
            ],
            "application/vnd.google.colaboratory.intrinsic+json": {
              "type": "dataframe",
              "summary": "{\n  \"name\": \"df\",\n  \"rows\": 8,\n  \"fields\": [\n    {\n      \"column\": \"Open\",\n      \"properties\": {\n        \"dtype\": \"number\",\n        \"std\": 38643.17363706972,\n        \"min\": 54.869999,\n        \"max\": 104224.0,\n        \"num_unique_values\": 8,\n        \"samples\": [\n          8015.353333862557,\n          5772.1401365,\n          104224.0\n        ],\n        \"semantic_type\": \"\",\n        \"description\": \"\"\n      }\n    },\n    {\n      \"column\": \"High\",\n      \"properties\": {\n        \"dtype\": \"number\",\n        \"std\": 38728.52895517238,\n        \"min\": 54.869999,\n        \"max\": 104224.0,\n        \"num_unique_values\": 8,\n        \"samples\": [\n          8063.324234438219,\n          5812.764892499999,\n          104224.0\n        ],\n        \"semantic_type\": \"\",\n        \"description\": \"\"\n      }\n    },\n    {\n      \"column\": \"Low\",\n      \"properties\": {\n        \"dtype\": \"number\",\n        \"std\": 38618.133975835335,\n        \"min\": 54.869999,\n        \"max\": 104224.0,\n        \"num_unique_values\": 8,\n        \"samples\": [\n          7962.581120340889,\n          5725.199951,\n          104224.0\n        ],\n        \"semantic_type\": \"\",\n        \"description\": \"\"\n      }\n    },\n    {\n      \"column\": \"Close\",\n      \"properties\": {\n        \"dtype\": \"number\",\n        \"std\": 38642.992162837465,\n        \"min\": 54.869999,\n        \"max\": 104224.0,\n        \"num_unique_values\": 8,\n        \"samples\": [\n          8014.366642221821,\n          5773.710205,\n          104224.0\n        ],\n        \"semantic_type\": \"\",\n        \"description\": \"\"\n      }\n    },\n    {\n      \"column\": \"Adj Close\",\n      \"properties\": {\n        \"dtype\": \"number\",\n        \"std\": 38643.01208043348,\n        \"min\": 54.869999,\n        \"max\": 104224.0,\n        \"num_unique_values\": 8,\n        \"samples\": [\n          8014.161269268,\n          5773.710205,\n          104224.0\n        ],\n        \"semantic_type\": \"\",\n        \"description\": \"\"\n      }\n    },\n    {\n      \"column\": \"Volume\",\n      \"properties\": {\n        \"dtype\": \"number\",\n        \"std\": 33109873576.469193,\n        \"min\": 0.0,\n        \"max\": 94403740000.0,\n        \"num_unique_values\": 7,\n        \"samples\": [\n          104224.0,\n          1347646002.2580404,\n          206467600.0\n        ],\n        \"semantic_type\": \"\",\n        \"description\": \"\"\n      }\n    },\n    {\n      \"column\": \"CloseUSD\",\n      \"properties\": {\n        \"dtype\": \"number\",\n        \"std\": 35761.86172776627,\n        \"min\": 10.2048999,\n        \"max\": 104224.0,\n        \"num_unique_values\": 8,\n        \"samples\": [\n          3046.7291774690966,\n          1371.59848627,\n          104224.0\n        ],\n        \"semantic_type\": \"\",\n        \"description\": \"\"\n      }\n    }\n  ]\n}"
            }
          },
          "metadata": {},
          "execution_count": 19
        }
      ],
      "source": [
        "df.describe()"
      ]
    },
    {
      "cell_type": "code",
      "execution_count": 20,
      "metadata": {
        "id": "ZiilSH-t3eS8",
        "outputId": "72725b41-f20d-4122-cf58-f6592f64a3f4",
        "colab": {
          "base_uri": "https://localhost:8080/"
        }
      },
      "outputs": [
        {
          "output_type": "execute_result",
          "data": {
            "text/plain": [
              "(104224, 9)"
            ]
          },
          "metadata": {},
          "execution_count": 20
        }
      ],
      "source": [
        "df.shape"
      ]
    },
    {
      "cell_type": "code",
      "execution_count": 21,
      "metadata": {
        "id": "A35NeuDn3eS8",
        "outputId": "043c4d4c-1d3e-4828-c6d3-e300402dd554",
        "colab": {
          "base_uri": "https://localhost:8080/"
        }
      },
      "outputs": [
        {
          "output_type": "stream",
          "name": "stdout",
          "text": [
            "        Index        Date         Open         High          Low        Close  \\\n",
            "0         HSI  2019-01-02  25824.43945  25824.43945  25055.26953  25130.34961   \n",
            "1         HSI  2019-01-03  25077.67969  25262.21094  24896.86914  25064.35938   \n",
            "2         HSI  2019-01-04  24946.11914  25626.02930  24924.73047  25626.02930   \n",
            "3         HSI  2019-01-07  26015.83984  26043.64063  25753.46094  25835.69922   \n",
            "4         HSI  2019-01-08  25852.50000  25960.89063  25688.50000  25875.44922   \n",
            "...       ...         ...          ...          ...          ...          ...   \n",
            "7753  J203.JO  2021-05-25  66054.92188  66812.45313  66022.97656  66076.67969   \n",
            "7754  J203.JO  2021-05-26  66076.67969  66446.36719  66030.35156  66108.22656   \n",
            "7755  J203.JO  2021-05-27  66108.22656  66940.25000  66102.54688  66940.25000   \n",
            "7756  J203.JO  2021-05-28  66940.25000  67726.56250  66794.60938  67554.85938   \n",
            "7757  J203.JO  2021-05-31  67554.85938  68140.85156  67554.85938  67964.03906   \n",
            "\n",
            "        Adj Close        Volume     CloseUSD  \n",
            "0     25130.34961  1.666316e+09  3266.945449  \n",
            "1     25064.35938  1.481292e+09  3258.366719  \n",
            "2     25626.02930  1.708572e+09  3331.383809  \n",
            "3     25835.69922  1.447090e+09  3358.640899  \n",
            "4     25875.44922  1.578206e+09  3363.808399  \n",
            "...           ...           ...          ...  \n",
            "7753  66076.67969  0.000000e+00  4625.367578  \n",
            "7754  66108.22656  0.000000e+00  4627.575859  \n",
            "7755  66940.25000  0.000000e+00  4685.817500  \n",
            "7756  67554.85938  0.000000e+00  4728.840157  \n",
            "7757  67964.03906  0.000000e+00  4757.482734  \n",
            "\n",
            "[7758 rows x 9 columns]\n"
          ]
        }
      ],
      "source": [
        "filtered_data = df[df['Date'] >= '2019-01-01']\n",
        "filtered_data.reset_index(drop=True, inplace=True)\n",
        "print(filtered_data)"
      ]
    },
    {
      "cell_type": "code",
      "execution_count": 22,
      "metadata": {
        "id": "aQcCQ6qf3eS8"
      },
      "outputs": [],
      "source": [
        "df2 = filtered_data"
      ]
    },
    {
      "cell_type": "code",
      "execution_count": 23,
      "metadata": {
        "id": "ouqkCiDJ3eS8",
        "outputId": "7a8f2ff3-2e69-4c8d-aa03-471a8703b25a",
        "colab": {
          "base_uri": "https://localhost:8080/"
        }
      },
      "outputs": [
        {
          "output_type": "execute_result",
          "data": {
            "text/plain": [
              "(7758, 9)"
            ]
          },
          "metadata": {},
          "execution_count": 23
        }
      ],
      "source": [
        "df2.shape\n"
      ]
    },
    {
      "cell_type": "code",
      "execution_count": 24,
      "metadata": {
        "id": "JZhqCkcG3eS8"
      },
      "outputs": [],
      "source": [
        "df= df2.reset_index()['CloseUSD']"
      ]
    },
    {
      "cell_type": "code",
      "execution_count": 25,
      "metadata": {
        "id": "qW1XGXzO3eS9",
        "outputId": "a8649a34-5e23-4eaa-d4a8-a3c29f6a4aab",
        "colab": {
          "base_uri": "https://localhost:8080/"
        }
      },
      "outputs": [
        {
          "output_type": "execute_result",
          "data": {
            "text/plain": [
              "0    3266.945449\n",
              "1    3258.366719\n",
              "2    3331.383809\n",
              "3    3358.640899\n",
              "4    3363.808399\n",
              "Name: CloseUSD, dtype: float64"
            ]
          },
          "metadata": {},
          "execution_count": 25
        }
      ],
      "source": [
        "df.head(5)"
      ]
    },
    {
      "cell_type": "code",
      "execution_count": 26,
      "metadata": {
        "id": "-JrTKfR03eS9",
        "outputId": "700c12d0-2972-42fb-87c0-fbea60754449",
        "colab": {
          "base_uri": "https://localhost:8080/"
        }
      },
      "outputs": [
        {
          "output_type": "execute_result",
          "data": {
            "text/plain": [
              "7753    4625.367578\n",
              "7754    4627.575859\n",
              "7755    4685.817500\n",
              "7756    4728.840157\n",
              "7757    4757.482734\n",
              "Name: CloseUSD, dtype: float64"
            ]
          },
          "metadata": {},
          "execution_count": 26
        }
      ],
      "source": [
        "df.tail(5)"
      ]
    },
    {
      "cell_type": "code",
      "execution_count": 27,
      "metadata": {
        "id": "7SWeOJr_3eS9",
        "outputId": "41ef2dfc-19a8-4531-8e3c-8228ef7d832d",
        "colab": {
          "base_uri": "https://localhost:8080/",
          "height": 447
        }
      },
      "outputs": [
        {
          "output_type": "execute_result",
          "data": {
            "text/plain": [
              "[<matplotlib.lines.Line2D at 0x78ce69969360>]"
            ]
          },
          "metadata": {},
          "execution_count": 27
        },
        {
          "output_type": "display_data",
          "data": {
            "text/plain": [
              "<Figure size 640x480 with 1 Axes>"
            ],
            "image/png": "[encoded data removed]"
          },
          "metadata": {}
        }
      ],
      "source": [
        "plt.plot(df)"
      ]
    },
    {
      "cell_type": "code",
      "execution_count": 28,
      "metadata": {
        "id": "stpDHCZr3eS9"
      },
      "outputs": [],
      "source": [
        "from sklearn.preprocessing import MinMaxScaler\n",
        "scaler = MinMaxScaler(feature_range=(0,1))\n",
        "df= scaler.fit_transform(np.array(df).reshape(-1,1))"
      ]
    },
    {
      "cell_type": "code",
      "execution_count": 29,
      "metadata": {
        "id": "tZ0c2Edf3eS9"
      },
      "outputs": [],
      "source": [
        "train_size = int(len(df)*0.65)\n",
        "test_size = len(df)- train_size\n",
        "\n",
        "train_data, test_data = df[0:train_size,:], df[train_size:len(df), :1]"
      ]
    },
    {
      "cell_type": "code",
      "source": [
        "train_size, test_size\n"
      ],
      "metadata": {
        "id": "bxPuZc328cM8",
        "outputId": "4c6e8baf-4f73-45bb-8361-3e48d2774cb7",
        "colab": {
          "base_uri": "https://localhost:8080/"
        }
      },
      "execution_count": 30,
      "outputs": [
        {
          "output_type": "execute_result",
          "data": {
            "text/plain": [
              "(5042, 2716)"
            ]
          },
          "metadata": {},
          "execution_count": 30
        }
      ]
    },
    {
      "cell_type": "code",
      "source": [
        "train_data.shape, test_data.shape"
      ],
      "metadata": {
        "id": "FSEkSiMb8mUo",
        "outputId": "8f68adef-611f-4980-b9a8-37a0cd63c43f",
        "colab": {
          "base_uri": "https://localhost:8080/"
        }
      },
      "execution_count": 32,
      "outputs": [
        {
          "output_type": "execute_result",
          "data": {
            "text/plain": [
              "((5042, 1), (2716, 1))"
            ]
          },
          "metadata": {},
          "execution_count": 32
        }
      ]
    },
    {
      "cell_type": "markdown",
      "source": [
        "Time steps and continous data.\n"
      ],
      "metadata": {
        "id": "D9Y5OKen8slZ"
      }
    },
    {
      "cell_type": "code",
      "source": [
        "import numpy\n",
        "\n",
        "def create_dataset(dataset, time_step=1):\n",
        "\tdataX, dataY = [], []\n",
        "\tfor i in range(len(dataset)-time_step-1):\n",
        "\t\ta = dataset[i:(i+time_step), 0]   ###i=0, 0,1,2,3-----99   100\n",
        "\t\tdataX.append(a)\n",
        "\t\tdataY.append(dataset[i + time_step, 0])\n",
        "\treturn numpy.array(dataX), numpy.array(dataY)"
      ],
      "metadata": {
        "id": "_c2ILSJo_2CI"
      },
      "execution_count": 33,
      "outputs": []
    },
    {
      "cell_type": "code",
      "source": [
        "time_step = 100\n",
        "X_train, y_train = create_dataset(train_data, time_step)\n",
        "X_test, ytest = create_dataset(test_data, time_step)"
      ],
      "metadata": {
        "id": "1d7VaJRY_6UY"
      },
      "execution_count": 34,
      "outputs": []
    },
    {
      "cell_type": "code",
      "source": [
        "X_train =X_train.reshape(X_train.shape[0],X_train.shape[1] , 1)\n",
        "X_test = X_test.reshape(X_test.shape[0],X_test.shape[1] , 1)"
      ],
      "metadata": {
        "id": "t8qOaR3aABa8"
      },
      "execution_count": 35,
      "outputs": []
    },
    {
      "cell_type": "code",
      "source": [
        "from tensorflow.keras.models import Sequential\n",
        "from tensorflow.keras.layers import Dense\n",
        "from tensorflow.keras.layers import LSTM"
      ],
      "metadata": {
        "id": "Ty9Ic4EN8rzq"
      },
      "execution_count": 36,
      "outputs": []
    },
    {
      "cell_type": "code",
      "source": [
        "model=Sequential()\n",
        "model.add(LSTM(50,return_sequences=True,input_shape=(100,1)))\n",
        "model.add(LSTM(50,return_sequences=True))\n",
        "model.add(LSTM(50))\n",
        "model.add(Dense(1))\n",
        "model.compile(loss='mean_squared_error',optimizer='adam')"
      ],
      "metadata": {
        "id": "OsLhUxTO9INl"
      },
      "execution_count": 37,
      "outputs": []
    },
    {
      "cell_type": "code",
      "source": [
        "model.summary()"
      ],
      "metadata": {
        "id": "oCRCWk2iETTm",
        "outputId": "827ff4c3-4643-4565-d5f1-1751142716b2",
        "colab": {
          "base_uri": "https://localhost:8080/"
        }
      },
      "execution_count": 38,
      "outputs": [
        {
          "output_type": "stream",
          "name": "stdout",
          "text": [
            "Model: \"sequential\"\n",
            "_________________________________________________________________\n",
            " Layer (type)                Output Shape              Param #   \n",
            "=================================================================\n",
            " lstm (LSTM)                 (None, 100, 50)           10400     \n",
            "                                                                 \n",
            " lstm_1 (LSTM)               (None, 100, 50)           20200     \n",
            "                                                                 \n",
            " lstm_2 (LSTM)               (None, 50)                20200     \n",
            "                                                                 \n",
            " dense (Dense)               (None, 1)                 51        \n",
            "                                                                 \n",
            "=================================================================\n",
            "Total params: 50851 (198.64 KB)\n",
            "Trainable params: 50851 (198.64 KB)\n",
            "Non-trainable params: 0 (0.00 Byte)\n",
            "_________________________________________________________________\n"
          ]
        }
      ]
    },
    {
      "cell_type": "code",
      "source": [
        "model.fit(X_train,y_train,validation_data=(X_test,ytest),epochs=100,batch_size=64,verbose=1)"
      ],
      "metadata": {
        "id": "s8CjMtQHEVyI",
        "outputId": "2795b769-9edf-429e-d040-a2ab31a782a3",
        "colab": {
          "base_uri": "https://localhost:8080/"
        }
      },
      "execution_count": 39,
      "outputs": [
        {
          "output_type": "stream",
          "name": "stdout",
          "text": [
            "Epoch 1/100\n",
            "78/78 [==============================] - 27s 271ms/step - loss: 0.0114 - val_loss: 0.0044\n",
            "Epoch 2/100\n",
            "78/78 [==============================] - 17s 217ms/step - loss: 0.0027 - val_loss: 0.0029\n",
            "Epoch 3/100\n",
            "78/78 [==============================] - 17s 217ms/step - loss: 0.0023 - val_loss: 0.0025\n",
            "Epoch 4/100\n",
            "78/78 [==============================] - 17s 222ms/step - loss: 0.0019 - val_loss: 0.0021\n",
            "Epoch 5/100\n",
            "78/78 [==============================] - 19s 239ms/step - loss: 0.0017 - val_loss: 0.0020\n",
            "Epoch 6/100\n",
            "78/78 [==============================] - 17s 222ms/step - loss: 0.0015 - val_loss: 0.0064\n",
            "Epoch 7/100\n",
            "78/78 [==============================] - 20s 255ms/step - loss: 0.0020 - val_loss: 0.0017\n",
            "Epoch 8/100\n",
            "78/78 [==============================] - 20s 251ms/step - loss: 0.0013 - val_loss: 0.0017\n",
            "Epoch 9/100\n",
            "78/78 [==============================] - 18s 232ms/step - loss: 0.0013 - val_loss: 0.0014\n",
            "Epoch 10/100\n",
            "78/78 [==============================] - 18s 228ms/step - loss: 0.0011 - val_loss: 0.0014\n",
            "Epoch 11/100\n",
            "78/78 [==============================] - 18s 225ms/step - loss: 0.0010 - val_loss: 0.0013\n",
            "Epoch 12/100\n",
            "78/78 [==============================] - 18s 233ms/step - loss: 0.0011 - val_loss: 0.0013\n",
            "Epoch 13/100\n",
            "78/78 [==============================] - 18s 226ms/step - loss: 9.7727e-04 - val_loss: 0.0015\n",
            "Epoch 14/100\n",
            "78/78 [==============================] - 17s 217ms/step - loss: 8.6043e-04 - val_loss: 0.0015\n",
            "Epoch 15/100\n",
            "78/78 [==============================] - 18s 238ms/step - loss: 7.8145e-04 - val_loss: 0.0010\n",
            "Epoch 16/100\n",
            "78/78 [==============================] - 20s 260ms/step - loss: 8.3506e-04 - val_loss: 0.0010\n",
            "Epoch 17/100\n",
            "78/78 [==============================] - 17s 222ms/step - loss: 7.6309e-04 - val_loss: 9.0652e-04\n",
            "Epoch 18/100\n",
            "78/78 [==============================] - 17s 221ms/step - loss: 6.5789e-04 - val_loss: 0.0012\n",
            "Epoch 19/100\n",
            "78/78 [==============================] - 17s 220ms/step - loss: 6.6414e-04 - val_loss: 9.3560e-04\n",
            "Epoch 20/100\n",
            "78/78 [==============================] - 20s 252ms/step - loss: 6.8901e-04 - val_loss: 0.0015\n",
            "Epoch 21/100\n",
            "78/78 [==============================] - 17s 218ms/step - loss: 6.2223e-04 - val_loss: 8.6932e-04\n",
            "Epoch 22/100\n",
            "78/78 [==============================] - 17s 217ms/step - loss: 6.3020e-04 - val_loss: 8.4711e-04\n",
            "Epoch 23/100\n",
            "78/78 [==============================] - 17s 220ms/step - loss: 5.8174e-04 - val_loss: 8.0219e-04\n",
            "Epoch 24/100\n",
            "78/78 [==============================] - 30s 386ms/step - loss: 6.1192e-04 - val_loss: 7.3471e-04\n",
            "Epoch 25/100\n",
            "78/78 [==============================] - 22s 278ms/step - loss: 5.9337e-04 - val_loss: 7.5521e-04\n",
            "Epoch 26/100\n",
            "78/78 [==============================] - 17s 218ms/step - loss: 5.6661e-04 - val_loss: 7.5712e-04\n",
            "Epoch 27/100\n",
            "78/78 [==============================] - 17s 219ms/step - loss: 5.3429e-04 - val_loss: 8.1439e-04\n",
            "Epoch 28/100\n",
            "78/78 [==============================] - 17s 222ms/step - loss: 5.9681e-04 - val_loss: 6.8738e-04\n",
            "Epoch 29/100\n",
            "78/78 [==============================] - 18s 230ms/step - loss: 5.2675e-04 - val_loss: 6.6853e-04\n",
            "Epoch 30/100\n",
            "78/78 [==============================] - 18s 226ms/step - loss: 5.3452e-04 - val_loss: 6.7137e-04\n",
            "Epoch 31/100\n",
            "78/78 [==============================] - 19s 240ms/step - loss: 5.2650e-04 - val_loss: 6.5324e-04\n",
            "Epoch 32/100\n",
            "78/78 [==============================] - 19s 242ms/step - loss: 4.8667e-04 - val_loss: 6.9263e-04\n",
            "Epoch 33/100\n",
            "78/78 [==============================] - 20s 255ms/step - loss: 5.3746e-04 - val_loss: 7.5175e-04\n",
            "Epoch 34/100\n",
            "78/78 [==============================] - 17s 218ms/step - loss: 5.2485e-04 - val_loss: 6.9206e-04\n",
            "Epoch 35/100\n",
            "78/78 [==============================] - 18s 228ms/step - loss: 5.6171e-04 - val_loss: 6.7314e-04\n",
            "Epoch 36/100\n",
            "78/78 [==============================] - 20s 256ms/step - loss: 5.6823e-04 - val_loss: 6.2532e-04\n",
            "Epoch 37/100\n",
            "78/78 [==============================] - 17s 220ms/step - loss: 4.8722e-04 - val_loss: 6.8440e-04\n",
            "Epoch 38/100\n",
            "78/78 [==============================] - 17s 219ms/step - loss: 5.1447e-04 - val_loss: 6.3046e-04\n",
            "Epoch 39/100\n",
            "78/78 [==============================] - 18s 234ms/step - loss: 5.1626e-04 - val_loss: 6.2770e-04\n",
            "Epoch 40/100\n",
            "78/78 [==============================] - 20s 258ms/step - loss: 5.2818e-04 - val_loss: 6.1187e-04\n",
            "Epoch 41/100\n",
            "78/78 [==============================] - 17s 222ms/step - loss: 5.3230e-04 - val_loss: 6.2325e-04\n",
            "Epoch 42/100\n",
            "78/78 [==============================] - 17s 224ms/step - loss: 4.9969e-04 - val_loss: 0.0019\n",
            "Epoch 43/100\n",
            "78/78 [==============================] - 20s 257ms/step - loss: 5.4285e-04 - val_loss: 6.1336e-04\n",
            "Epoch 44/100\n",
            "78/78 [==============================] - 17s 222ms/step - loss: 4.9163e-04 - val_loss: 5.9489e-04\n",
            "Epoch 45/100\n",
            "78/78 [==============================] - 17s 221ms/step - loss: 5.3303e-04 - val_loss: 6.9360e-04\n",
            "Epoch 46/100\n",
            "78/78 [==============================] - 17s 222ms/step - loss: 5.1530e-04 - val_loss: 7.5636e-04\n",
            "Epoch 47/100\n",
            "78/78 [==============================] - 18s 234ms/step - loss: 5.3695e-04 - val_loss: 6.4151e-04\n",
            "Epoch 48/100\n",
            "78/78 [==============================] - 20s 257ms/step - loss: 4.8088e-04 - val_loss: 6.0195e-04\n",
            "Epoch 49/100\n",
            "78/78 [==============================] - 17s 223ms/step - loss: 4.8222e-04 - val_loss: 5.9517e-04\n",
            "Epoch 50/100\n",
            "78/78 [==============================] - 17s 221ms/step - loss: 5.1191e-04 - val_loss: 6.0373e-04\n",
            "Epoch 51/100\n",
            "78/78 [==============================] - 18s 234ms/step - loss: 4.8718e-04 - val_loss: 6.8695e-04\n",
            "Epoch 52/100\n",
            "78/78 [==============================] - 17s 223ms/step - loss: 4.9770e-04 - val_loss: 5.9726e-04\n",
            "Epoch 53/100\n",
            "78/78 [==============================] - 17s 225ms/step - loss: 4.8141e-04 - val_loss: 5.8021e-04\n",
            "Epoch 54/100\n",
            "78/78 [==============================] - 17s 222ms/step - loss: 4.7740e-04 - val_loss: 5.8676e-04\n",
            "Epoch 55/100\n",
            "78/78 [==============================] - 18s 236ms/step - loss: 4.8090e-04 - val_loss: 6.8707e-04\n",
            "Epoch 56/100\n",
            "78/78 [==============================] - 18s 227ms/step - loss: 4.9468e-04 - val_loss: 5.9033e-04\n",
            "Epoch 57/100\n",
            "78/78 [==============================] - 21s 273ms/step - loss: 4.6719e-04 - val_loss: 5.7887e-04\n",
            "Epoch 58/100\n",
            "78/78 [==============================] - 20s 258ms/step - loss: 4.7477e-04 - val_loss: 5.7915e-04\n",
            "Epoch 59/100\n",
            "78/78 [==============================] - 18s 231ms/step - loss: 4.8317e-04 - val_loss: 5.6010e-04\n",
            "Epoch 60/100\n",
            "78/78 [==============================] - 18s 225ms/step - loss: 4.7245e-04 - val_loss: 6.4472e-04\n",
            "Epoch 61/100\n",
            "78/78 [==============================] - 18s 231ms/step - loss: 4.6168e-04 - val_loss: 5.7067e-04\n",
            "Epoch 62/100\n",
            "78/78 [==============================] - 18s 234ms/step - loss: 4.8678e-04 - val_loss: 5.6249e-04\n",
            "Epoch 63/100\n",
            "78/78 [==============================] - 17s 223ms/step - loss: 5.1496e-04 - val_loss: 5.9205e-04\n",
            "Epoch 64/100\n",
            "78/78 [==============================] - 17s 223ms/step - loss: 5.2885e-04 - val_loss: 5.5159e-04\n",
            "Epoch 65/100\n",
            "78/78 [==============================] - 22s 280ms/step - loss: 4.6773e-04 - val_loss: 5.3869e-04\n",
            "Epoch 66/100\n",
            "78/78 [==============================] - 18s 231ms/step - loss: 4.7531e-04 - val_loss: 7.4767e-04\n",
            "Epoch 67/100\n",
            "78/78 [==============================] - 17s 221ms/step - loss: 4.7634e-04 - val_loss: 5.6806e-04\n",
            "Epoch 68/100\n",
            "78/78 [==============================] - 17s 220ms/step - loss: 5.3997e-04 - val_loss: 5.3878e-04\n",
            "Epoch 69/100\n",
            "78/78 [==============================] - 20s 255ms/step - loss: 4.8765e-04 - val_loss: 6.2651e-04\n",
            "Epoch 70/100\n",
            "78/78 [==============================] - 17s 221ms/step - loss: 5.0780e-04 - val_loss: 5.5292e-04\n",
            "Epoch 71/100\n",
            "78/78 [==============================] - 17s 221ms/step - loss: 4.5840e-04 - val_loss: 7.3073e-04\n",
            "Epoch 72/100\n",
            "78/78 [==============================] - 20s 256ms/step - loss: 4.6615e-04 - val_loss: 8.1952e-04\n",
            "Epoch 73/100\n",
            "78/78 [==============================] - 17s 218ms/step - loss: 4.5469e-04 - val_loss: 5.4498e-04\n",
            "Epoch 74/100\n",
            "78/78 [==============================] - 21s 264ms/step - loss: 4.8754e-04 - val_loss: 6.1337e-04\n",
            "Epoch 75/100\n",
            "78/78 [==============================] - 19s 245ms/step - loss: 4.6849e-04 - val_loss: 6.5526e-04\n",
            "Epoch 76/100\n",
            "78/78 [==============================] - 18s 225ms/step - loss: 4.7680e-04 - val_loss: 7.0619e-04\n",
            "Epoch 77/100\n",
            "78/78 [==============================] - 18s 226ms/step - loss: 4.9871e-04 - val_loss: 5.9300e-04\n",
            "Epoch 78/100\n",
            "78/78 [==============================] - 17s 221ms/step - loss: 4.9480e-04 - val_loss: 5.2956e-04\n",
            "Epoch 79/100\n",
            "78/78 [==============================] - 19s 238ms/step - loss: 4.6097e-04 - val_loss: 5.4908e-04\n",
            "Epoch 80/100\n",
            "78/78 [==============================] - 17s 218ms/step - loss: 4.7044e-04 - val_loss: 5.3306e-04\n",
            "Epoch 81/100\n",
            "78/78 [==============================] - 17s 219ms/step - loss: 4.6315e-04 - val_loss: 5.2218e-04\n",
            "Epoch 82/100\n",
            "78/78 [==============================] - 20s 255ms/step - loss: 4.7129e-04 - val_loss: 5.2933e-04\n",
            "Epoch 83/100\n",
            "78/78 [==============================] - 19s 244ms/step - loss: 4.6206e-04 - val_loss: 5.4973e-04\n",
            "Epoch 84/100\n",
            "78/78 [==============================] - 17s 218ms/step - loss: 4.6589e-04 - val_loss: 5.7695e-04\n",
            "Epoch 85/100\n",
            "78/78 [==============================] - 17s 220ms/step - loss: 4.6536e-04 - val_loss: 5.1716e-04\n",
            "Epoch 86/100\n",
            "78/78 [==============================] - 20s 256ms/step - loss: 5.1116e-04 - val_loss: 5.1940e-04\n",
            "Epoch 87/100\n",
            "78/78 [==============================] - 17s 221ms/step - loss: 4.6880e-04 - val_loss: 5.2917e-04\n",
            "Epoch 88/100\n",
            "78/78 [==============================] - 17s 221ms/step - loss: 4.6184e-04 - val_loss: 5.2548e-04\n",
            "Epoch 89/100\n",
            "78/78 [==============================] - 20s 260ms/step - loss: 4.5378e-04 - val_loss: 6.1337e-04\n",
            "Epoch 90/100\n",
            "78/78 [==============================] - 17s 222ms/step - loss: 4.6608e-04 - val_loss: 5.9121e-04\n",
            "Epoch 91/100\n",
            "78/78 [==============================] - 20s 255ms/step - loss: 4.7076e-04 - val_loss: 5.6370e-04\n",
            "Epoch 92/100\n",
            "78/78 [==============================] - 17s 222ms/step - loss: 5.1770e-04 - val_loss: 6.5731e-04\n",
            "Epoch 93/100\n",
            "78/78 [==============================] - 20s 255ms/step - loss: 4.6123e-04 - val_loss: 5.2977e-04\n",
            "Epoch 94/100\n",
            "78/78 [==============================] - 17s 220ms/step - loss: 4.6926e-04 - val_loss: 5.4581e-04\n",
            "Epoch 95/100\n",
            "78/78 [==============================] - 17s 224ms/step - loss: 4.6146e-04 - val_loss: 5.2174e-04\n",
            "Epoch 96/100\n",
            "78/78 [==============================] - 20s 258ms/step - loss: 4.6139e-04 - val_loss: 5.6842e-04\n",
            "Epoch 97/100\n",
            "78/78 [==============================] - 17s 222ms/step - loss: 4.6006e-04 - val_loss: 5.2511e-04\n",
            "Epoch 98/100\n",
            "78/78 [==============================] - 17s 212ms/step - loss: 4.7672e-04 - val_loss: 5.8808e-04\n",
            "Epoch 99/100\n",
            "78/78 [==============================] - 17s 224ms/step - loss: 4.5953e-04 - val_loss: 5.2779e-04\n",
            "Epoch 100/100\n",
            "78/78 [==============================] - 21s 276ms/step - loss: 4.6793e-04 - val_loss: 5.8343e-04\n"
          ]
        },
        {
          "output_type": "execute_result",
          "data": {
            "text/plain": [
              "<keras.src.callbacks.History at 0x78ce06403e50>"
            ]
          },
          "metadata": {},
          "execution_count": 39
        }
      ]
    },
    {
      "cell_type": "code",
      "source": [
        "train_predict=model.predict(X_train)\n",
        "test_predict=model.predict(X_test)"
      ],
      "metadata": {
        "id": "UmEL_SDCEb7h",
        "outputId": "51f134fd-4ebd-45e5-c51c-fd36aa8546c6",
        "colab": {
          "base_uri": "https://localhost:8080/"
        }
      },
      "execution_count": 40,
      "outputs": [
        {
          "output_type": "stream",
          "name": "stdout",
          "text": [
            "155/155 [==============================] - 8s 39ms/step\n",
            "82/82 [==============================] - 4s 52ms/step\n"
          ]
        }
      ]
    },
    {
      "cell_type": "code",
      "source": [
        "train_predict=scaler.inverse_transform(train_predict)\n",
        "test_predict=scaler.inverse_transform(test_predict)"
      ],
      "metadata": {
        "id": "TIClV3RWGEeg"
      },
      "execution_count": 41,
      "outputs": []
    },
    {
      "cell_type": "code",
      "source": [
        "import math\n",
        "from sklearn.metrics import mean_squared_error\n",
        "math.sqrt(mean_squared_error(y_train,train_predict))\n",
        "math.sqrt(mean_squared_error(ytest,test_predict))"
      ],
      "metadata": {
        "id": "5KyygUNIGGei",
        "outputId": "1b1e9651-ba98-4155-f800-10d4da69e3f1",
        "colab": {
          "base_uri": "https://localhost:8080/"
        }
      },
      "execution_count": 42,
      "outputs": [
        {
          "output_type": "execute_result",
          "data": {
            "text/plain": [
              "9517.622918006211"
            ]
          },
          "metadata": {},
          "execution_count": 42
        }
      ]
    },
    {
      "cell_type": "code",
      "source": [
        "look_back=100\n",
        "trainPredictPlot = numpy.empty_like(df)\n",
        "trainPredictPlot[:, :] = np.nan\n",
        "trainPredictPlot[look_back:len(train_predict)+look_back, :] = train_predict\n",
        "# shift test predictions for plotting\n",
        "testPredictPlot = numpy.empty_like(df)\n",
        "testPredictPlot[:, :] = numpy.nan\n",
        "testPredictPlot[len(train_predict)+(look_back*2)+1:len(df)-1, :] = test_predict\n",
        "# plot baseline and predictions\n",
        "plt.plot(scaler.inverse_transform(df))\n",
        "plt.plot(trainPredictPlot)\n",
        "plt.plot(testPredictPlot)\n",
        "plt.show()"
      ],
      "metadata": {
        "id": "F4RT3RVBGH5T",
        "outputId": "928c4988-fa4f-4cb8-c5c1-44f6ad922fe3",
        "colab": {
          "base_uri": "https://localhost:8080/",
          "height": 430
        }
      },
      "execution_count": 43,
      "outputs": [
        {
          "output_type": "display_data",
          "data": {
            "text/plain": [
              "<Figure size 640x480 with 1 Axes>"
            ],
            "image/png": "[encoded data removed]"
          },
          "metadata": {}
        }
      ]
    },
    {
      "cell_type": "markdown",
      "source": [],
      "metadata": {
        "id": "jA0_co94GLmQ"
      }
    }
  ],
  "metadata": {
    "kernelspec": {
      "display_name": "base",
      "language": "python",
      "name": "python3"
    },
    "language_info": {
      "codemirror_mode": {
        "name": "ipython",
        "version": 3
      },
      "file_extension": ".py",
      "mimetype": "text/x-python",
      "name": "python",
      "nbconvert_exporter": "python",
      "pygments_lexer": "ipython3",
      "version": "3.11.7"
    },
    "colab": {
      "provenance": []
    }
  },
  "nbformat": 4,
  "nbformat_minor": 0
}