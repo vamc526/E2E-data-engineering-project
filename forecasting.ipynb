{
 "cells": [
  {
   "cell_type": "markdown",
   "metadata": {},
   "source": [
    "#Stock Price Prediction And Forecasting Using Stacked LSTM- Deep Learning"
   ]
  },
  {
   "cell_type": "code",
   "execution_count": 32,
   "metadata": {},
   "outputs": [],
   "source": [
    "import pandas as pd \n",
    "import matplotlib.pyplot as plt \n",
    "import numpy as np "
   ]
  },
  {
   "cell_type": "code",
   "execution_count": 22,
   "metadata": {},
   "outputs": [],
   "source": [
    "df = pd.read_csv(\"/Users/vamshi/Documents/Stock-Market/Dataset .csv\")"
   ]
  },
  {
   "cell_type": "code",
   "execution_count": 23,
   "metadata": {},
   "outputs": [
    {
     "data": {
      "text/html": [
       "<div>\n",
       "<style scoped>\n",
       "    .dataframe tbody tr th:only-of-type {\n",
       "        vertical-align: middle;\n",
       "    }\n",
       "\n",
       "    .dataframe tbody tr th {\n",
       "        vertical-align: top;\n",
       "    }\n",
       "\n",
       "    .dataframe thead th {\n",
       "        text-align: right;\n",
       "    }\n",
       "</style>\n",
       "<table border=\"1\" class=\"dataframe\">\n",
       "  <thead>\n",
       "    <tr style=\"text-align: right;\">\n",
       "      <th></th>\n",
       "      <th>Index</th>\n",
       "      <th>Date</th>\n",
       "      <th>Open</th>\n",
       "      <th>High</th>\n",
       "      <th>Low</th>\n",
       "      <th>Close</th>\n",
       "      <th>Adj Close</th>\n",
       "      <th>Volume</th>\n",
       "      <th>CloseUSD</th>\n",
       "    </tr>\n",
       "  </thead>\n",
       "  <tbody>\n",
       "    <tr>\n",
       "      <th>0</th>\n",
       "      <td>HSI</td>\n",
       "      <td>1986-12-31</td>\n",
       "      <td>2568.300049</td>\n",
       "      <td>2568.300049</td>\n",
       "      <td>2568.300049</td>\n",
       "      <td>2568.300049</td>\n",
       "      <td>2568.300049</td>\n",
       "      <td>0.0</td>\n",
       "      <td>333.879006</td>\n",
       "    </tr>\n",
       "    <tr>\n",
       "      <th>1</th>\n",
       "      <td>HSI</td>\n",
       "      <td>1987-01-02</td>\n",
       "      <td>2540.100098</td>\n",
       "      <td>2540.100098</td>\n",
       "      <td>2540.100098</td>\n",
       "      <td>2540.100098</td>\n",
       "      <td>2540.100098</td>\n",
       "      <td>0.0</td>\n",
       "      <td>330.213013</td>\n",
       "    </tr>\n",
       "    <tr>\n",
       "      <th>2</th>\n",
       "      <td>HSI</td>\n",
       "      <td>1987-01-05</td>\n",
       "      <td>2552.399902</td>\n",
       "      <td>2552.399902</td>\n",
       "      <td>2552.399902</td>\n",
       "      <td>2552.399902</td>\n",
       "      <td>2552.399902</td>\n",
       "      <td>0.0</td>\n",
       "      <td>331.811987</td>\n",
       "    </tr>\n",
       "    <tr>\n",
       "      <th>3</th>\n",
       "      <td>HSI</td>\n",
       "      <td>1987-01-06</td>\n",
       "      <td>2583.899902</td>\n",
       "      <td>2583.899902</td>\n",
       "      <td>2583.899902</td>\n",
       "      <td>2583.899902</td>\n",
       "      <td>2583.899902</td>\n",
       "      <td>0.0</td>\n",
       "      <td>335.906987</td>\n",
       "    </tr>\n",
       "    <tr>\n",
       "      <th>4</th>\n",
       "      <td>HSI</td>\n",
       "      <td>1987-01-07</td>\n",
       "      <td>2607.100098</td>\n",
       "      <td>2607.100098</td>\n",
       "      <td>2607.100098</td>\n",
       "      <td>2607.100098</td>\n",
       "      <td>2607.100098</td>\n",
       "      <td>0.0</td>\n",
       "      <td>338.923013</td>\n",
       "    </tr>\n",
       "  </tbody>\n",
       "</table>\n",
       "</div>"
      ],
      "text/plain": [
       "  Index        Date         Open         High          Low        Close  \\\n",
       "0   HSI  1986-12-31  2568.300049  2568.300049  2568.300049  2568.300049   \n",
       "1   HSI  1987-01-02  2540.100098  2540.100098  2540.100098  2540.100098   \n",
       "2   HSI  1987-01-05  2552.399902  2552.399902  2552.399902  2552.399902   \n",
       "3   HSI  1987-01-06  2583.899902  2583.899902  2583.899902  2583.899902   \n",
       "4   HSI  1987-01-07  2607.100098  2607.100098  2607.100098  2607.100098   \n",
       "\n",
       "     Adj Close  Volume    CloseUSD  \n",
       "0  2568.300049     0.0  333.879006  \n",
       "1  2540.100098     0.0  330.213013  \n",
       "2  2552.399902     0.0  331.811987  \n",
       "3  2583.899902     0.0  335.906987  \n",
       "4  2607.100098     0.0  338.923013  "
      ]
     },
     "execution_count": 23,
     "metadata": {},
     "output_type": "execute_result"
    }
   ],
   "source": [
    "df.head()"
   ]
  },
  {
   "cell_type": "markdown",
   "metadata": {},
   "source": [
    "Target variable is close "
   ]
  },
  {
   "cell_type": "code",
   "execution_count": 24,
   "metadata": {},
   "outputs": [
    {
     "name": "stdout",
     "output_type": "stream",
     "text": [
      "<class 'pandas.core.frame.DataFrame'>\n",
      "RangeIndex: 104224 entries, 0 to 104223\n",
      "Data columns (total 9 columns):\n",
      " #   Column     Non-Null Count   Dtype  \n",
      "---  ------     --------------   -----  \n",
      " 0   Index      104224 non-null  object \n",
      " 1   Date       104224 non-null  object \n",
      " 2   Open       104224 non-null  float64\n",
      " 3   High       104224 non-null  float64\n",
      " 4   Low        104224 non-null  float64\n",
      " 5   Close      104224 non-null  float64\n",
      " 6   Adj Close  104224 non-null  float64\n",
      " 7   Volume     104224 non-null  float64\n",
      " 8   CloseUSD   104224 non-null  float64\n",
      "dtypes: float64(7), object(2)\n",
      "memory usage: 7.2+ MB\n"
     ]
    }
   ],
   "source": [
    "df.info()"
   ]
  },
  {
   "cell_type": "code",
   "execution_count": 25,
   "metadata": {},
   "outputs": [
    {
     "data": {
      "text/html": [
       "<div>\n",
       "<style scoped>\n",
       "    .dataframe tbody tr th:only-of-type {\n",
       "        vertical-align: middle;\n",
       "    }\n",
       "\n",
       "    .dataframe tbody tr th {\n",
       "        vertical-align: top;\n",
       "    }\n",
       "\n",
       "    .dataframe thead th {\n",
       "        text-align: right;\n",
       "    }\n",
       "</style>\n",
       "<table border=\"1\" class=\"dataframe\">\n",
       "  <thead>\n",
       "    <tr style=\"text-align: right;\">\n",
       "      <th></th>\n",
       "      <th>Open</th>\n",
       "      <th>High</th>\n",
       "      <th>Low</th>\n",
       "      <th>Close</th>\n",
       "      <th>Adj Close</th>\n",
       "      <th>Volume</th>\n",
       "      <th>CloseUSD</th>\n",
       "    </tr>\n",
       "  </thead>\n",
       "  <tbody>\n",
       "    <tr>\n",
       "      <th>count</th>\n",
       "      <td>104224.000000</td>\n",
       "      <td>104224.000000</td>\n",
       "      <td>104224.000000</td>\n",
       "      <td>104224.000000</td>\n",
       "      <td>104224.000000</td>\n",
       "      <td>1.042240e+05</td>\n",
       "      <td>104224.000000</td>\n",
       "    </tr>\n",
       "    <tr>\n",
       "      <th>mean</th>\n",
       "      <td>8015.353334</td>\n",
       "      <td>8063.324234</td>\n",
       "      <td>7962.581120</td>\n",
       "      <td>8014.366642</td>\n",
       "      <td>8014.161269</td>\n",
       "      <td>1.347646e+09</td>\n",
       "      <td>3046.729177</td>\n",
       "    </tr>\n",
       "    <tr>\n",
       "      <th>std</th>\n",
       "      <td>9140.563404</td>\n",
       "      <td>9196.575802</td>\n",
       "      <td>9082.767802</td>\n",
       "      <td>9140.609758</td>\n",
       "      <td>9140.720456</td>\n",
       "      <td>4.427662e+09</td>\n",
       "      <td>3747.865623</td>\n",
       "    </tr>\n",
       "    <tr>\n",
       "      <th>min</th>\n",
       "      <td>54.869999</td>\n",
       "      <td>54.869999</td>\n",
       "      <td>54.869999</td>\n",
       "      <td>54.869999</td>\n",
       "      <td>54.869999</td>\n",
       "      <td>0.000000e+00</td>\n",
       "      <td>10.204900</td>\n",
       "    </tr>\n",
       "    <tr>\n",
       "      <th>25%</th>\n",
       "      <td>2046.887756</td>\n",
       "      <td>2057.213990</td>\n",
       "      <td>2037.185943</td>\n",
       "      <td>2047.506470</td>\n",
       "      <td>2047.358490</td>\n",
       "      <td>0.000000e+00</td>\n",
       "      <td>320.460898</td>\n",
       "    </tr>\n",
       "    <tr>\n",
       "      <th>50%</th>\n",
       "      <td>5772.140137</td>\n",
       "      <td>5812.764892</td>\n",
       "      <td>5725.199951</td>\n",
       "      <td>5773.710205</td>\n",
       "      <td>5773.710205</td>\n",
       "      <td>9.529000e+05</td>\n",
       "      <td>1371.598486</td>\n",
       "    </tr>\n",
       "    <tr>\n",
       "      <th>75%</th>\n",
       "      <td>10487.377445</td>\n",
       "      <td>10552.179690</td>\n",
       "      <td>10416.092287</td>\n",
       "      <td>10488.622560</td>\n",
       "      <td>10488.622560</td>\n",
       "      <td>2.064676e+08</td>\n",
       "      <td>4383.045241</td>\n",
       "    </tr>\n",
       "    <tr>\n",
       "      <th>max</th>\n",
       "      <td>68775.062500</td>\n",
       "      <td>69403.750000</td>\n",
       "      <td>68516.992190</td>\n",
       "      <td>68775.062500</td>\n",
       "      <td>68775.062500</td>\n",
       "      <td>9.440374e+10</td>\n",
       "      <td>18934.376173</td>\n",
       "    </tr>\n",
       "  </tbody>\n",
       "</table>\n",
       "</div>"
      ],
      "text/plain": [
       "                Open           High            Low          Close  \\\n",
       "count  104224.000000  104224.000000  104224.000000  104224.000000   \n",
       "mean     8015.353334    8063.324234    7962.581120    8014.366642   \n",
       "std      9140.563404    9196.575802    9082.767802    9140.609758   \n",
       "min        54.869999      54.869999      54.869999      54.869999   \n",
       "25%      2046.887756    2057.213990    2037.185943    2047.506470   \n",
       "50%      5772.140137    5812.764892    5725.199951    5773.710205   \n",
       "75%     10487.377445   10552.179690   10416.092287   10488.622560   \n",
       "max     68775.062500   69403.750000   68516.992190   68775.062500   \n",
       "\n",
       "           Adj Close        Volume       CloseUSD  \n",
       "count  104224.000000  1.042240e+05  104224.000000  \n",
       "mean     8014.161269  1.347646e+09    3046.729177  \n",
       "std      9140.720456  4.427662e+09    3747.865623  \n",
       "min        54.869999  0.000000e+00      10.204900  \n",
       "25%      2047.358490  0.000000e+00     320.460898  \n",
       "50%      5773.710205  9.529000e+05    1371.598486  \n",
       "75%     10488.622560  2.064676e+08    4383.045241  \n",
       "max     68775.062500  9.440374e+10   18934.376173  "
      ]
     },
     "execution_count": 25,
     "metadata": {},
     "output_type": "execute_result"
    }
   ],
   "source": [
    "df.describe()"
   ]
  },
  {
   "cell_type": "code",
   "execution_count": 26,
   "metadata": {},
   "outputs": [
    {
     "data": {
      "text/plain": [
       "(104224, 9)"
      ]
     },
     "execution_count": 26,
     "metadata": {},
     "output_type": "execute_result"
    }
   ],
   "source": [
    "df.shape"
   ]
  },
  {
   "cell_type": "code",
   "execution_count": 27,
   "metadata": {},
   "outputs": [
    {
     "name": "stdout",
     "output_type": "stream",
     "text": [
      "         Index        Date         Open         High          Low  \\\n",
      "0          HSI  2014-01-02  23452.75977  23469.33008  23173.92969   \n",
      "1          HSI  2014-01-03  23097.98047  23097.98047  22782.41992   \n",
      "2          HSI  2014-01-06  22732.83008  22757.44922  22567.76953   \n",
      "3          HSI  2014-01-07  22689.25000  22802.84961  22644.58008   \n",
      "4          HSI  2014-01-08  22834.81055  23031.18945  22778.83008   \n",
      "...        ...         ...          ...          ...          ...   \n",
      "23919  J203.JO  2021-05-25  66054.92188  66812.45313  66022.97656   \n",
      "23920  J203.JO  2021-05-26  66076.67969  66446.36719  66030.35156   \n",
      "23921  J203.JO  2021-05-27  66108.22656  66940.25000  66102.54688   \n",
      "23922  J203.JO  2021-05-28  66940.25000  67726.56250  66794.60938   \n",
      "23923  J203.JO  2021-05-31  67554.85938  68140.85156  67554.85938   \n",
      "\n",
      "             Close    Adj Close        Volume     CloseUSD  \n",
      "0      23340.05078  23340.05078  1.042215e+09  3034.206601  \n",
      "1      22817.27930  22817.27930  1.994801e+09  2966.246309  \n",
      "2      22684.15039  22684.15039  1.650597e+09  2948.939551  \n",
      "3      22712.77930  22712.77930  1.733386e+09  2952.661309  \n",
      "4      22996.58984  22996.58984  2.201300e+09  2989.556679  \n",
      "...            ...          ...           ...          ...  \n",
      "23919  66076.67969  66076.67969  0.000000e+00  4625.367578  \n",
      "23920  66108.22656  66108.22656  0.000000e+00  4627.575859  \n",
      "23921  66940.25000  66940.25000  0.000000e+00  4685.817500  \n",
      "23922  67554.85938  67554.85938  0.000000e+00  4728.840157  \n",
      "23923  67964.03906  67964.03906  0.000000e+00  4757.482734  \n",
      "\n",
      "[23924 rows x 9 columns]\n"
     ]
    }
   ],
   "source": [
    "filtered_data = df[df['Date'] >= '2014-01-01']\n",
    "filtered_data.reset_index(drop=True, inplace=True)\n",
    "print(filtered_data)"
   ]
  },
  {
   "cell_type": "code",
   "execution_count": 28,
   "metadata": {},
   "outputs": [],
   "source": [
    "df2 = filtered_data"
   ]
  },
  {
   "cell_type": "code",
   "execution_count": 29,
   "metadata": {},
   "outputs": [
    {
     "data": {
      "text/plain": [
       "(23924, 9)"
      ]
     },
     "execution_count": 29,
     "metadata": {},
     "output_type": "execute_result"
    }
   ],
   "source": [
    "df2.shape\n"
   ]
  },
  {
   "cell_type": "code",
   "execution_count": 30,
   "metadata": {},
   "outputs": [],
   "source": [
    "df= df2.reset_index()['CloseUSD']"
   ]
  },
  {
   "cell_type": "code",
   "execution_count": 33,
   "metadata": {},
   "outputs": [
    {
     "data": {
      "text/plain": [
       "0    3034.206601\n",
       "1    2966.246309\n",
       "2    2948.939551\n",
       "3    2952.661309\n",
       "4    2989.556679\n",
       "Name: CloseUSD, dtype: float64"
      ]
     },
     "execution_count": 33,
     "metadata": {},
     "output_type": "execute_result"
    }
   ],
   "source": [
    "df.head(5)"
   ]
  },
  {
   "cell_type": "code",
   "execution_count": 34,
   "metadata": {},
   "outputs": [
    {
     "data": {
      "text/plain": [
       "23919    4625.367578\n",
       "23920    4627.575859\n",
       "23921    4685.817500\n",
       "23922    4728.840157\n",
       "23923    4757.482734\n",
       "Name: CloseUSD, dtype: float64"
      ]
     },
     "execution_count": 34,
     "metadata": {},
     "output_type": "execute_result"
    }
   ],
   "source": [
    "df.tail(5)"
   ]
  },
  {
   "cell_type": "code",
   "execution_count": 31,
   "metadata": {},
   "outputs": [
    {
     "data": {
      "text/plain": [
       "[<matplotlib.lines.Line2D at 0x138736750>]"
      ]
     },
     "execution_count": 31,
     "metadata": {},
     "output_type": "execute_result"
    },
    {
     "data": {
      "image/png": "[encoded data removed]",
      "text/plain": [
       "<Figure size 640x480 with 1 Axes>"
      ]
     },
     "metadata": {},
     "output_type": "display_data"
    }
   ],
   "source": [
    "plt.plot(df)"
   ]
  },
  {
   "cell_type": "code",
   "execution_count": 36,
   "metadata": {},
   "outputs": [],
   "source": [
    "from sklearn.preprocessing import MinMaxScaler\n",
    "scaler = MinMaxScaler(feature_range=(0,1))\n",
    "df= scaler.fit_transform(np.array(df).reshape(-1,1))"
   ]
  },
  {
   "cell_type": "code",
   "execution_count": null,
   "metadata": {},
   "outputs": [],
   "source": [
    "train_size = int(len(df)*0.65)\n",
    "test_size = len(df)- train_size\n",
    "\n",
    "train_data, test_data = df[0:train_size,:], df[train_size:len(df), :1]"
   ]
  },
  {
   "cell_type": "markdown",
   "metadata": {},
   "source": []
  }
 ],
 "metadata": {
  "kernelspec": {
   "display_name": "base",
   "language": "python",
   "name": "python3"
  },
  "language_info": {
   "codemirror_mode": {
    "name": "ipython",
    "version": 3
   },
   "file_extension": ".py",
   "mimetype": "text/x-python",
   "name": "python",
   "nbconvert_exporter": "python",
   "pygments_lexer": "ipython3",
   "version": "3.11.7"
  }
 },
 "nbformat": 4,
 "nbformat_minor": 2
}
